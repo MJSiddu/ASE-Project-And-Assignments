{
 "cells": [
  {
   "cell_type": "code",
   "execution_count": 9,
   "metadata": {},
   "outputs": [],
   "source": [
    "import numpy as np\n",
    "import matplotlib.pyplot as plt\n",
    "from sklearn.decomposition import PCA\n",
    "import pandas as pd\n",
    "from sklearn.preprocessing import StandardScaler\n",
    "from sklearn.metrics import accuracy_score\n",
    "from sklearn.tree import DecisionTreeClassifier\n",
    "%matplotlib inline"
   ]
  },
  {
   "cell_type": "code",
   "execution_count": 10,
   "metadata": {},
   "outputs": [
    {
     "name": "stdout",
     "output_type": "stream",
     "text": [
      "(1871144, 120)\n",
      "(330203, 120)\n"
     ]
    }
   ],
   "source": [
    "train_title_vecs = np.load('train_title_vecs.npy')\n",
    "train_body_vecs = np.load('train_body_vecs.npy')\n",
    "test_title_vecs = np.load('test_title_vecs.npy')\n",
    "test_body_vecs = np.load('test_body_vecs.npy')\n",
    "train_label_vecs = np.load('train_labels.npy')\n",
    "test_label_vecs = np.load('test_labels.npy')\n",
    "\n",
    "train_title_df = pd.DataFrame(train_title_vecs)\n",
    "train_body_df = pd.DataFrame(train_body_vecs)\n",
    "test_title_df = pd.DataFrame(test_title_vecs)\n",
    "test_body_df = pd.DataFrame(test_body_vecs)\n",
    "train_label_df = pd.DataFrame(train_label_vecs)\n",
    "test_label_df = pd.DataFrame(test_label_vecs)\n",
    "\n",
    "train_df = pd.concat([train_title_df, train_body_df], axis = 1)\n",
    "test_df = pd.concat([test_title_df, test_body_df], axis = 1)\n",
    "\n",
    "print(train_df.shape)\n",
    "print(test_df.shape)"
   ]
  },
  {
   "cell_type": "code",
   "execution_count": 12,
   "metadata": {},
   "outputs": [
    {
     "name": "stdout",
     "output_type": "stream",
     "text": [
      "Train Accuracy ->  100.0\n",
      "Test Accuracy ->  52.0\n"
     ]
    }
   ],
   "source": [
    "dt_clf = DecisionTreeClassifier(criterion='gini', splitter='best', max_depth=10, min_samples_leaf=1)\n",
    "dt_clf.fit(train_df.head(50), train_label_df.head(50))\n",
    "\n",
    "pred_train = dt_clf.predict(train_df.head(50))\n",
    "pred_test = dt_clf.predict(test_df.head(50))\n",
    "\n",
    "train_accuracy = accuracy_score(train_label_df.head(50), pred_train)\n",
    "test_accuracy = accuracy_score(test_label_df.head(50), pred_test)\n",
    "\n",
    "# dTree_filename = 'dTree.pkl'\n",
    "# # Open the file to save as pkl file\n",
    "# decision_tree_model_pkl = open(dTree_filename, 'wb')\n",
    "# pickle.dump(dt_clf, decision_tree_model_pkl)\n",
    "# # Close the pickle instances\n",
    "# decision_tree_model_pkl.close()\n",
    "# model_dict['dTree'] = dt_clf\n",
    "# print(\"Model Saved\")\n",
    "\n",
    "print('Train Accuracy -> ', train_accuracy*100)\n",
    "print('Test Accuracy -> ', test_accuracy*100)"
   ]
  },
  {
   "cell_type": "code",
   "execution_count": 30,
   "metadata": {},
   "outputs": [
    {
     "name": "stdout",
     "output_type": "stream",
     "text": [
      "Train Accuracy ->  100.0\n",
      "Test Accuracy ->  30.0\n"
     ]
    },
    {
     "data": {
      "image/png": "[encoded data removed]",
      "text/plain": [
       "<Figure size 432x288 with 1 Axes>"
      ]
     },
     "metadata": {},
     "output_type": "display_data"
    }
   ],
   "source": [
    "pca = PCA(n_components = 2)\n",
    "pca.fit(train_df.head(50))\n",
    "\n",
    "xs = pca.transform(train_df.head(50))[:,0]\n",
    "ys = pca.transform(train_df.head(50))[:,1]\n",
    "\n",
    "ss = pca.transform(test_df.head(50))[:,0]\n",
    "ss = pca.transform(test_df.head(50))[:,1]\n",
    "\n",
    "data_tuples = list(zip(xs,ys))\n",
    "data_tupl = list(zip(ss,ss))\n",
    "\n",
    "\n",
    "frame = (train_label_df.iloc[:, 0]).head(50)\n",
    "color_list = [{0:\"r\",1:\"g\",2:\"b\"}[x] for x in frame]\n",
    "plt.scatter(xs, ys, color=color_list)\n",
    "plt.xlim(-6000, 6000)\n",
    "plt.ylim(-6000, 6000)\n",
    "\n",
    "data = pd.DataFrame(data_tuples)\n",
    "dt_clff = DecisionTreeClassifier(criterion='gini', splitter='best', max_depth=10, min_samples_leaf=1)\n",
    "dt_clff.fit(data, train_label_df.head(50))\n",
    "\n",
    "pred_trainn = dt_clff.predict(data)\n",
    "pred_testt = dt_clff.predict(pd.DataFrame(data_tupl))\n",
    "\n",
    "train_accuracyy = accuracy_score(train_label_df.head(50), pred_trainn)\n",
    "test_accuracyy = accuracy_score(test_label_df.head(50), pred_testt)\n",
    "\n",
    "# dTree_filename = 'dTree.pkl'\n",
    "# # Open the file to save as pkl file\n",
    "# decision_tree_model_pkl = open(dTree_filename, 'wb')\n",
    "# pickle.dump(dt_clf, decision_tree_model_pkl)\n",
    "# # Close the pickle instances\n",
    "# decision_tree_model_pkl.close()\n",
    "# model_dict['dTree'] = dt_clf\n",
    "# print(\"Model Saved\")\n",
    "\n",
    "print('Train Accuracy -> ', train_accuracyy*100)\n",
    "print('Test Accuracy -> ', test_accuracyy*100)"
   ]
  },
  {
   "cell_type": "code",
   "execution_count": null,
   "metadata": {},
   "outputs": [],
   "source": []
  }
 ],
 "metadata": {
  "kernelspec": {
   "display_name": "Python 3",
   "language": "python",
   "name": "python3"
  },
  "language_info": {
   "codemirror_mode": {
    "name": "ipython",
    "version": 3
   },
   "file_extension": ".py",
   "mimetype": "text/x-python",
   "name": "python",
   "nbconvert_exporter": "python",
   "pygments_lexer": "ipython3",
   "version": "3.6.5"
  }
 },
 "nbformat": 4,
 "nbformat_minor": 2
}
