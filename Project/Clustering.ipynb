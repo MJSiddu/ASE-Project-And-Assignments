{
 "cells": [
  {
   "cell_type": "code",
   "execution_count": 26,
   "metadata": {},
   "outputs": [
    {
     "name": "stdout",
     "output_type": "stream",
     "text": [
      "C:\\Users\\siddu\\Documents\\COURSES\\ASE\\Project\n",
      "Clustering.ipynb\n",
      "Decision Tree.ipynb\n",
      "body_pp.dpkl\n",
      "issues_labeller\n",
      "issues_labeller.tar\n",
      "predictor.ipynb\n",
      "preprocess_data.ipynb\n",
      "test_body_vecs.npy\n",
      "test_labels.npy\n",
      "test_title_vecs.npy\n",
      "testdf.pkl\n",
      "title_pp.dpkl\n",
      "train_body_vecs.npy\n",
      "train_labels.npy\n",
      "train_model.ipynb\n",
      "train_title_vecs.npy\n",
      "traindf.pkl\n"
     ]
    }
   ],
   "source": [
    "import tensorflow as tf\n",
    "import os\n",
    "import pandas as pd\n",
    "import sklearn\n",
    "from sklearn.cluster import KMeans\n",
    "import numpy as np\n",
    "import dill as dpickle\n",
    "import matplotlib.pyplot as plt\n",
    "from sklearn.decomposition import PCA\n",
    "from sklearn.preprocessing import StandardScaler\n",
    "%matplotlib inline\n",
    "print(os.getcwd())\n",
    "!ls"
   ]
  },
  {
   "cell_type": "code",
   "execution_count": 33,
   "metadata": {},
   "outputs": [
    {
     "name": "stdout",
     "output_type": "stream",
     "text": [
      "(1871144, 120)\n",
      "[1 0 0 2 2 0 2 0 1 0 1 2 2 1 1 2 0 0 2 2 1 2 2 2 0 1 2 1 2 0]\n",
      "[[0]\n",
      " [1]\n",
      " [1]\n",
      " [0]\n",
      " [1]\n",
      " [2]\n",
      " [1]\n",
      " [2]\n",
      " [0]\n",
      " [0]\n",
      " [0]\n",
      " [0]\n",
      " [0]\n",
      " [0]\n",
      " [0]\n",
      " [1]\n",
      " [0]\n",
      " [2]\n",
      " [0]\n",
      " [0]\n",
      " [0]\n",
      " [1]\n",
      " [0]\n",
      " [1]\n",
      " [0]\n",
      " [1]\n",
      " [1]\n",
      " [0]\n",
      " [2]\n",
      " [1]]\n",
      "[1]\n",
      "   0\n",
      "0  0\n"
     ]
    }
   ],
   "source": [
    " #load the training data and labels\n",
    "train_title_vecs = np.load('train_title_vecs.npy')\n",
    "train_body_vecs = np.load('train_body_vecs.npy')\n",
    "train_label_vecs = np.load('train_labels.npy')\n",
    "\n",
    "# create data frames\n",
    "train_title_df = pd.DataFrame(train_title_vecs)\n",
    "train_body_df = pd.DataFrame(train_body_vecs)\n",
    "train_label_df = pd.DataFrame(train_label_vecs)\n",
    "\n",
    "# club title and body\n",
    "train_df = pd.concat([train_title_df, train_body_df], axis = 1)\n",
    "\n",
    "print(train_df.shape)\n",
    "\n",
    "# K-Means Clustering\n",
    "kmeans = KMeans(n_clusters=3)\n",
    "kmeans.fit(train_df.head(30000))\n",
    "\n",
    "centroids = kmeans.cluster_centers_\n",
    "labels = kmeans.labels_\n",
    "print(labels[0:30])\n",
    "#print(centroids)\n",
    "\n",
    "train_labels = np.load('train_labels.npy')\n",
    "print(train_labels[0:30])\n",
    "\n",
    "res = kmeans.predict(train_df.head(1))\n",
    "print(res)\n",
    "print(train_label_df.head(1))"
   ]
  },
  {
   "cell_type": "code",
   "execution_count": 38,
   "metadata": {},
   "outputs": [
    {
     "name": "stdout",
     "output_type": "stream",
     "text": [
      "30000\n"
     ]
    },
    {
     "name": "stderr",
     "output_type": "stream",
     "text": [
      "C:\\Users\\siddu\\Anaconda3\\lib\\site-packages\\matplotlib\\collections.py:902: RuntimeWarning: invalid value encountered in sqrt\n",
      "  scale = np.sqrt(self._sizes) * dpi / 72.0 * self._factor\n"
     ]
    },
    {
     "name": "stdout",
     "output_type": "stream",
     "text": [
      "[0]\n",
      "   0\n",
      "0  0\n"
     ]
    },
    {
     "data": {
      "image/png": "[encoded data removed]",
      "text/plain": [
       "<Figure size 432x288 with 1 Axes>"
      ]
     },
     "metadata": {},
     "output_type": "display_data"
    }
   ],
   "source": [
    "# Principle component analysis\n",
    "pca = PCA(n_components = 3)\n",
    "\n",
    "pca.fit(train_df.head(30000))\n",
    "\n",
    "xs = pca.transform(train_df.head(30000))[:,0]\n",
    "ys = pca.transform(train_df.head(30000))[:,1]\n",
    "zs = pca.transform(train_df.head(30000))[:,2]\n",
    "\n",
    "data_tuples = list(zip(xs,ys,zs))\n",
    "\n",
    "data_df = pd.DataFrame(data_tuples)\n",
    "\n",
    "kMeans = KMeans(n_clusters=3)\n",
    "kMeans.fit(data_df)\n",
    "\n",
    "pca_centroids = kMeans.cluster_centers_\n",
    "pca_labels = kMeans.labels_\n",
    "\n",
    "print(pca_labels.size)\n",
    "\n",
    "color_list = [{0:\"r\",1:\"g\",2:\"b\"}[x] for x in pca_labels]\n",
    "\n",
    "plt.scatter(xs, ys, zs, color=color_list)\n",
    "\n",
    "\n",
    "pca_res = kMeans.predict(data_df.head(1))\n",
    "print(pca_res)\n",
    "print(train_label_df.head(1))"
   ]
  },
  {
   "cell_type": "code",
   "execution_count": null,
   "metadata": {},
   "outputs": [],
   "source": []
  }
 ],
 "metadata": {
  "kernelspec": {
   "display_name": "Python 3",
   "language": "python",
   "name": "python3"
  },
  "language_info": {
   "codemirror_mode": {
    "name": "ipython",
    "version": 3
   },
   "file_extension": ".py",
   "mimetype": "text/x-python",
   "name": "python",
   "nbconvert_exporter": "python",
   "pygments_lexer": "ipython3",
   "version": "3.6.5"
  }
 },
 "nbformat": 4,
 "nbformat_minor": 2
}
